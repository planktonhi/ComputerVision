{
 "cells": [
  {
   "cell_type": "code",
   "execution_count": 1,
   "id": "09c7f8d8",
   "metadata": {},
   "outputs": [],
   "source": [
    "import cv2\n",
    "import math\n",
    "import time\n",
    "import os"
   ]
  },
  {
   "cell_type": "code",
   "execution_count": 2,
   "id": "50e48332",
   "metadata": {},
   "outputs": [],
   "source": [
    "def drawRectangle(action, x, y, flags, userdata):\n",
    "  # Referencing global variables \n",
    "  global columnTL, rowTL, columnBR, rowBR, closeWindow\n",
    "  # Action to be taken when left mouse button is pressed\n",
    "  if action==cv2.EVENT_LBUTTONDOWN:\n",
    "    cornerTL=[(x,y)]\n",
    "    columnTL=x\n",
    "    rowTL=y\n",
    "        \n",
    "    # Action to be taken when left mouse button is released\n",
    "  elif action==cv2.EVENT_LBUTTONUP:\n",
    "    cornerBR=[(x,y)]\n",
    "    columnBR=x\n",
    "    rowBR=y\n",
    "    \n",
    "    if closeWindow==0:\n",
    "  # Draw the rectangle\n",
    "        cv2.rectangle(source, (columnTL, rowTL), (columnBR, rowBR), (0, 255, 128), thickness=3, lineType=cv2.LINE_8);\n",
    "        closeWindow=1\n",
    "        \n",
    "    cv2.imshow(\"Window\",source)\n",
    "    \n",
    "    "
   ]
  },
  {
   "cell_type": "code",
   "execution_count": 3,
   "id": "ac767fcc",
   "metadata": {},
   "outputs": [],
   "source": [
    "__location__ = os.path.realpath(os.getcwd())\n",
    "filename=os.path.join(__location__, 'BlueRoseNecklace.jpg')\n",
    "source = cv2.imread(filename,1)\n"
   ]
  },
  {
   "cell_type": "code",
   "execution_count": 4,
   "id": "5b01ef8c",
   "metadata": {},
   "outputs": [],
   "source": [
    "\n",
    "original=source.copy()\n",
    "closeWindow=0\n",
    "cv2.namedWindow(\"Window\")\n",
    "# highgui function called when mouse events occur\n",
    "cv2.setMouseCallback(\"Window\", drawRectangle)\n",
    "k = 0\n",
    "\n",
    "# loop until escape character is pressed\n",
    "while k!=27 :\n",
    "\n",
    "    cv2.imshow(\"Window\", source)\n",
    "    cv2.putText(source,'''Choose top left corner, and drag?''' ,\n",
    "              (10,30), cv2.FONT_HERSHEY_SIMPLEX, \n",
    "              0.7,(255,255,255), 2 );\n",
    "    if closeWindow==1:\n",
    "        cv2.rectangle(original, (columnTL, rowTL), (columnBR, rowBR), (0, 255, 128), thickness=3, lineType=cv2.LINE_8);\n",
    "        finalimg=original[rowTL:rowBR, columnTL:columnBR]\n",
    "        destfile=os.path.join(__location__, 'face.png')\n",
    "        cv2.imwrite(destfile,finalimg)\n",
    "        time.sleep(1)\n",
    "        k=27\n",
    "    else:\n",
    "        k = cv2.waitKey(20) & 0xFF\n",
    "   \n",
    "   \n",
    "\n",
    "cv2.destroyAllWindows()"
   ]
  },
  {
   "cell_type": "code",
   "execution_count": null,
   "id": "a5bd9358",
   "metadata": {},
   "outputs": [],
   "source": []
  },
  {
   "cell_type": "code",
   "execution_count": null,
   "id": "b26575a0",
   "metadata": {},
   "outputs": [],
   "source": []
  }
 ],
 "metadata": {
  "kernelspec": {
   "display_name": "Python 3 (ipykernel)",
   "language": "python",
   "name": "python3"
  },
  "language_info": {
   "codemirror_mode": {
    "name": "ipython",
    "version": 3
   },
   "file_extension": ".py",
   "mimetype": "text/x-python",
   "name": "python",
   "nbconvert_exporter": "python",
   "pygments_lexer": "ipython3",
   "version": "3.9.13"
  }
 },
 "nbformat": 4,
 "nbformat_minor": 5
}
