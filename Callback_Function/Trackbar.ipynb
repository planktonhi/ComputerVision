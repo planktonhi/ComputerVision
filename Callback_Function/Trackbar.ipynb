{
 "cells": [
  {
   "cell_type": "code",
   "execution_count": 7,
   "id": "872b3151",
   "metadata": {},
   "outputs": [],
   "source": [
    "import cv2\n",
    "import os\n",
    "\n",
    "maxScaleUp = 100\n",
    "scaleFactor = 1\n",
    "scaleType = 0\n",
    "maxType = 1\n",
    "\n",
    "windowName = \"Resize Image\"\n",
    "trackbarValue = \"Scale %\"\n",
    "trackbarType=\"Click\"\n",
    "\n",
    "# load an image\n",
    "__location__ = os.path.realpath(os.getcwd())\n",
    "filename=os.path.join(__location__, 'BlueRoseNecklace.jpg')\n",
    "\n",
    "im = cv2.imread(filename)\n",
    "im=cv2.resize(im, None, fx=0.5,\n",
    "            fy = 0.5, interpolation = cv2.INTER_LINEAR)\n",
    "# Create a window to display results\n",
    "cv2.namedWindow(windowName, cv2.WINDOW_AUTOSIZE)\n"
   ]
  },
  {
   "cell_type": "code",
   "execution_count": 8,
   "id": "c5ed5ff3",
   "metadata": {},
   "outputs": [],
   "source": [
    "# Callback functions\n",
    "def scaleImage(*args):\n",
    "    global scaleFactor\n",
    "    global scaleType\n",
    "    \n",
    "    if scaleType==0:\n",
    "        # Get the scale factor from the trackbar \n",
    "        scaleFactor = 1+ args[0]/100.0\n",
    "    \n",
    "       \n",
    "    else:\n",
    "         # Get the scale factor from the trackbar \n",
    "        scaleFactor = 1- args[0]/100.0\n",
    "    \n",
    "     # Perform check if scaleFactor is zero\n",
    "    if scaleFactor == 0:\n",
    "        scaleFactor = 1\n",
    "            \n",
    "    # Resize the image\n",
    "    scaledImage = cv2.resize(im, None, fx=scaleFactor,\\\n",
    "            fy = scaleFactor, interpolation = cv2.INTER_LINEAR)\n",
    "        \n",
    "    cv2.imshow(windowName, scaledImage)\n",
    "\n",
    "# Callback functions\n",
    "def scaleTypeImage(*args):\n",
    "    global scaleType\n",
    "    global scaleFactor\n",
    "    cv2.setTrackbarPos(trackbarValue, windowName, 0)\n",
    "    if args[0] >=0.5:\n",
    "        scaleType = 0\n",
    "        \n",
    "    else:\n",
    "        scaleType=1\n",
    "        \n",
    "        "
   ]
  },
  {
   "cell_type": "code",
   "execution_count": 9,
   "id": "17d9623c",
   "metadata": {},
   "outputs": [],
   "source": [
    "\n",
    "cv2.createTrackbar(trackbarType, windowName, scaleType, maxType, scaleTypeImage)\n",
    "cv2.createTrackbar(trackbarValue, windowName, scaleFactor, maxScaleUp, scaleImage)\n",
    "cv2.imshow(windowName, im)\n",
    "\n",
    "c = cv2.waitKey(0)\n",
    "\n",
    "cv2.destroyAllWindows()"
   ]
  },
  {
   "cell_type": "code",
   "execution_count": null,
   "id": "c9c8d540",
   "metadata": {},
   "outputs": [],
   "source": []
  }
 ],
 "metadata": {
  "kernelspec": {
   "display_name": "Python 3 (ipykernel)",
   "language": "python",
   "name": "python3"
  },
  "language_info": {
   "codemirror_mode": {
    "name": "ipython",
    "version": 3
   },
   "file_extension": ".py",
   "mimetype": "text/x-python",
   "name": "python",
   "nbconvert_exporter": "python",
   "pygments_lexer": "ipython3",
   "version": "3.9.13"
  }
 },
 "nbformat": 4,
 "nbformat_minor": 5
}
