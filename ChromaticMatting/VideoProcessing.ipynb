{
 "cells": [
  {
   "cell_type": "code",
   "execution_count": 117,
   "id": "ccca158a",
   "metadata": {},
   "outputs": [],
   "source": [
    "# Import module\n",
    "import cv2\n",
    "import numpy as np\n",
    "#from dataPath import DATA_PATH\n",
    "import matplotlib.pyplot as plt\n",
    "%matplotlib inline\n",
    "import os"
   ]
  },
  {
   "cell_type": "code",
   "execution_count": 118,
   "id": "be02c2bb",
   "metadata": {},
   "outputs": [],
   "source": [
    "import matplotlib\n",
    "matplotlib.rcParams['figure.figsize'] = (6.0, 6.0)\n",
    "#matplotlib.rcParams['image.cmap'] = 'gray'"
   ]
  },
  {
   "cell_type": "code",
   "execution_count": 119,
   "id": "5e833edb",
   "metadata": {},
   "outputs": [],
   "source": [
    "__location__ = os.path.realpath(os.getcwd())\n",
    "filename=os.path.join(__location__, 'GreenBG_YWSpin.mp4')\n",
    "bgname=os.path.join(__location__, 'RedBG_YwSpin.mp4')"
   ]
  },
  {
   "cell_type": "markdown",
   "id": "9ee86979",
   "metadata": {},
   "source": [
    "## <font style='color:rgb(255,0,255)' > Create the Red Background video"
   ]
  },
  {
   "cell_type": "code",
   "execution_count": 120,
   "id": "f09c8c4b",
   "metadata": {},
   "outputs": [
    {
     "name": "stdout",
     "output_type": "stream",
     "text": [
      "30.006429949274846 1920 1080\n"
     ]
    }
   ],
   "source": [
    "\n",
    "#Video Capture\n",
    "cap = cv2.VideoCapture(bgname)\n",
    "framecount = int(cap.get(cv2.CAP_PROP_FRAME_COUNT))\n",
    "fps = cap.get(cv2.CAP_PROP_FPS)\n",
    "frame_width = int(cap.get(3))\n",
    "frame_height = int(cap.get(4))\n",
    "\n",
    "print(fps, frame_width, frame_height)\n",
    "\n",
    "if (cap.isOpened()== False): \n",
    "  print(\"Error opening video stream or file\")\n",
    " \n",
    "# Read until video is completed\n",
    "while(cap.isOpened()):\n",
    "  # Capture frame-by-frame\n",
    "  ret, frame = cap.read()\n",
    "  \n",
    "    \n",
    "  if ret == True:\n",
    "    \n",
    "    height, width, layers = frame.shape\n",
    "    new_w = int(width /4)\n",
    "    new_h = int(height / 4)\n",
    "\n",
    "    frame=cv2.resize(frame, (new_w, new_h))\n",
    "    cv2.imshow(\"Yellow Spin\", frame)    \n",
    "    # Wait for 25 ms before moving on to the next frame\n",
    "    # This will slow down the video\n",
    "    # Press Q on keyboard to  exit\n",
    "    if cv2.waitKey(25) & 0xFF == ord('q'):\n",
    "      break\n",
    "\n",
    "  # Break the loop\n",
    "  else: \n",
    "    break\n",
    "\n",
    "cap.release()\n",
    "cv2.destroyAllWindows(        )"
   ]
  },
  {
   "cell_type": "code",
   "execution_count": 121,
   "id": "50b78de5",
   "metadata": {},
   "outputs": [],
   "source": [
    "# Define the codec and create VideoWriter object.\n",
    "# The output is stored in 'outputChaplin.mp4' file.\n",
    "#out = cv2.VideoWriter('GreenBG_Orange.avi',cv2.VideoWriter_fourcc('M','J','P','G'), 30, (frame_width/4,frame_height/4)))\n",
    "framesize=(int(frame_width/4),int(frame_height/4))\n",
    "out = cv2.VideoWriter('RedBG_Yellow.avi',cv2.VideoWriter_fourcc(*'DIVX'), 30, framesize)"
   ]
  },
  {
   "cell_type": "code",
   "execution_count": 122,
   "id": "17335b7b",
   "metadata": {},
   "outputs": [],
   "source": [
    "count=0\n",
    "cap = cv2.VideoCapture(bgname)\n",
    "\n",
    "while (cap.isOpened()):\n",
    "    success, frame = cap.read()\n",
    "    if success==True:\n",
    "        height, width, layers = frame.shape\n",
    "        new_w = int(width /4)\n",
    "        new_h = int(height / 4)\n",
    "\n",
    "        frame=cv2.resize(frame, (new_w, new_h))\n",
    "        #cv2.imshow(\"Video Output\", frame)    \n",
    "    \n",
    "    # Write the frame into the file 'outputChaplin.mp4'\n",
    "        out.write(frame)\n",
    "        \n",
    "        count += 1\n",
    "        if count>123:\n",
    "            break\n",
    "    else:\n",
    "        print(\"No success\")\n",
    "        print(count)\n",
    "        break\n",
    "        \n",
    "cap.release()\n",
    "out.release()\n",
    "cv2.destroyAllWindows()"
   ]
  },
  {
   "cell_type": "code",
   "execution_count": 123,
   "id": "d38ef44c",
   "metadata": {},
   "outputs": [
    {
     "name": "stdout",
     "output_type": "stream",
     "text": [
      "124 30.0 480 270\n"
     ]
    }
   ],
   "source": [
    "cap = cv2.VideoCapture('RedBG_Yellow.avi')\n",
    "framecount = int(cap.get(cv2.CAP_PROP_FRAME_COUNT))\n",
    "fps = cap.get(cv2.CAP_PROP_FPS)\n",
    "frame_width = int(cap.get(3))\n",
    "frame_height = int(cap.get(4))\n",
    "print( framecount, fps, frame_width, frame_height)"
   ]
  },
  {
   "cell_type": "code",
   "execution_count": 124,
   "id": "8e79b49a",
   "metadata": {},
   "outputs": [],
   "source": [
    "\n",
    "if (cap.isOpened()== False): \n",
    "  print(\"Error opening video stream or file\")\n",
    " \n",
    "# Read until video is completed\n",
    "while(cap.isOpened()):\n",
    "  # Capture frame-by-frame\n",
    "  ret, frame = cap.read()\n",
    "  \n",
    "    \n",
    "  if ret == True:\n",
    "    \n",
    "    cv2.imshow(\"Yellow Spin\", frame)    \n",
    "    # Wait for 25 ms before moving on to the next frame\n",
    "    # This will slow down the video\n",
    "    # Press Q on keyboard to  exit\n",
    "    if cv2.waitKey(25) & 0xFF == ord('q'):\n",
    "      break\n",
    "\n",
    "  # Break the loop\n",
    "  else: \n",
    "    break\n",
    "\n",
    "cap.release()\n",
    "cv2.destroyAllWindows(        )"
   ]
  },
  {
   "cell_type": "markdown",
   "id": "16cb1c74",
   "metadata": {},
   "source": [
    "## <font style=\"color:rgb(255,0,255)\"> Create the Green background image"
   ]
  },
  {
   "cell_type": "code",
   "execution_count": 125,
   "id": "11030913",
   "metadata": {},
   "outputs": [
    {
     "name": "stdout",
     "output_type": "stream",
     "text": [
      "60.01551170148592 1920 1080\n"
     ]
    }
   ],
   "source": [
    "\n",
    "#Video Capture\n",
    "cap = cv2.VideoCapture(filename)\n",
    "framecount = int(cap.get(cv2.CAP_PROP_FRAME_COUNT))\n",
    "fps = cap.get(cv2.CAP_PROP_FPS)\n",
    "frame_width = int(cap.get(3))\n",
    "frame_height = int(cap.get(4))\n",
    "\n",
    "print(fps, frame_width, frame_height)\n",
    "\n",
    "if (cap.isOpened()== False): \n",
    "  print(\"Error opening video stream or file\")\n",
    " \n",
    "# Read until video is completed\n",
    "while(cap.isOpened()):\n",
    "  # Capture frame-by-frame\n",
    "  ret, frame = cap.read()\n",
    "  \n",
    "    \n",
    "  if ret == True:\n",
    "    \n",
    "    height, width, layers = frame.shape\n",
    "    new_w = int(width /4)\n",
    "    new_h = int(height / 4)\n",
    "\n",
    "    frame=cv2.resize(frame, (new_w, new_h))\n",
    "    cv2.imshow(\"Yellow Spin\", frame)    \n",
    "    # Wait for 25 ms before moving on to the next frame\n",
    "    # This will slow down the video\n",
    "    # Press Q on keyboard to  exit\n",
    "    if cv2.waitKey(25) & 0xFF == ord('q'):\n",
    "      break\n",
    "\n",
    "  # Break the loop\n",
    "  else: \n",
    "    break\n",
    "\n",
    "cap.release()\n",
    "cv2.destroyAllWindows(        )"
   ]
  },
  {
   "cell_type": "code",
   "execution_count": 126,
   "id": "460cffae",
   "metadata": {},
   "outputs": [],
   "source": [
    "# Define the codec and create VideoWriter object.\n",
    "# The output is stored in 'outputChaplin.mp4' file.\n",
    "#out = cv2.VideoWriter('GreenBG_Orange.avi',cv2.VideoWriter_fourcc('M','J','P','G'), 30, (frame_width/4,frame_height/4)))\n",
    "framesize=(int(frame_width/4),int(frame_height/4))\n",
    "out = cv2.VideoWriter('GreenBG_Yellow.avi',cv2.VideoWriter_fourcc(*'DIVX'), 30, framesize)"
   ]
  },
  {
   "cell_type": "code",
   "execution_count": 127,
   "id": "faef9472",
   "metadata": {},
   "outputs": [],
   "source": [
    "count=0\n",
    "cap = cv2.VideoCapture(filename)\n",
    "\n",
    "while (cap.isOpened()):\n",
    "    success, frame = cap.read()\n",
    "    if success==True:\n",
    "        height, width, layers = frame.shape\n",
    "        new_w = int(width /4)\n",
    "        new_h = int(height / 4)\n",
    "\n",
    "        frame=cv2.resize(frame, (new_w, new_h))\n",
    "        #cv2.imshow(\"Video Output\", frame)    \n",
    "    \n",
    "    # Write the frame into the file 'outputChaplin.mp4'\n",
    "        out.write(frame)\n",
    "        \n",
    "        count += 1\n",
    "        if count>123:\n",
    "            break\n",
    "    else:\n",
    "        print(\"No success\")\n",
    "        print(count)\n",
    "        break\n",
    "        \n",
    "cap.release()\n",
    "out.release()\n",
    "cv2.destroyAllWindows()"
   ]
  },
  {
   "cell_type": "code",
   "execution_count": 128,
   "id": "5de445ed",
   "metadata": {},
   "outputs": [
    {
     "name": "stdout",
     "output_type": "stream",
     "text": [
      "124 30.0 480 270\n"
     ]
    }
   ],
   "source": [
    "cap = cv2.VideoCapture('GreenBG_Yellow.avi')\n",
    "framecount = int(cap.get(cv2.CAP_PROP_FRAME_COUNT))\n",
    "fps = cap.get(cv2.CAP_PROP_FPS)\n",
    "frame_width = int(cap.get(3))\n",
    "frame_height = int(cap.get(4))\n",
    "print( framecount, fps, frame_width, frame_height)"
   ]
  },
  {
   "cell_type": "code",
   "execution_count": 129,
   "id": "361ebe7d",
   "metadata": {},
   "outputs": [],
   "source": [
    "\n",
    "if (cap.isOpened()== False): \n",
    "  print(\"Error opening video stream or file\")\n",
    " \n",
    "# Read until video is completed\n",
    "while(cap.isOpened()):\n",
    "  # Capture frame-by-frame\n",
    "  ret, frame = cap.read()\n",
    "  \n",
    "    \n",
    "  if ret == True:\n",
    "    \n",
    "    cv2.imshow(\"Yellow Spin\", frame)    \n",
    "    # Wait for 25 ms before moving on to the next frame\n",
    "    # This will slow down the video\n",
    "    # Press Q on keyboard to  exit\n",
    "    if cv2.waitKey(25) & 0xFF == ord('q'):\n",
    "      break\n",
    "\n",
    "  # Break the loop\n",
    "  else: \n",
    "    break\n",
    "\n",
    "cap.release()\n",
    "cv2.destroyAllWindows(        )"
   ]
  },
  {
   "cell_type": "markdown",
   "id": "5f5d3029",
   "metadata": {},
   "source": [
    "## <font style=\"color:rgb(255,0,255)\"> Calculate histogram"
   ]
  },
  {
   "cell_type": "code",
   "execution_count": 133,
   "id": "139c91a6",
   "metadata": {},
   "outputs": [
    {
     "data": {
      "image/png": "[encoded data removed]",
      "text/plain": [
       "<Figure size 600x600 with 2 Axes>"
      ]
     },
     "metadata": {},
     "output_type": "display_data"
    }
   ],
   "source": [
    "cap = cv2.VideoCapture('GreenBG_Yellow.avi')\n",
    "ret, frame = cap.read()\n",
    "\n",
    "img = frame\n",
    "\n",
    "# Calculate histogram without mask\n",
    "hist1 = cv2.calcHist([img],[0],None,[256],[0,256])\n",
    "hist2 = cv2.calcHist([img],[1],None,[256],[0,256])\n",
    "hist3 = cv2.calcHist([img],[2],None,[256],[0,256])\n",
    "\n",
    "plt.subplot(221), plt.imshow(img)\n",
    "plt.subplot(222), plt.plot(hist1), plt.plot(hist2),plt.plot(hist3)\n",
    "plt.xlim([200,256])\n",
    "plt.ylim([0,2000])\n",
    "\n",
    "plt.show()\n",
    "\n",
    "cap.release()\n"
   ]
  },
  {
   "cell_type": "code",
   "execution_count": null,
   "id": "6f3c0900",
   "metadata": {},
   "outputs": [],
   "source": []
  }
 ],
 "metadata": {
  "kernelspec": {
   "display_name": "Python 3 (ipykernel)",
   "language": "python",
   "name": "python3"
  },
  "language_info": {
   "codemirror_mode": {
    "name": "ipython",
    "version": 3
   },
   "file_extension": ".py",
   "mimetype": "text/x-python",
   "name": "python",
   "nbconvert_exporter": "python",
   "pygments_lexer": "ipython3",
   "version": "3.9.13"
  }
 },
 "nbformat": 4,
 "nbformat_minor": 5
}
