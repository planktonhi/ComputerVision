{
 "cells": [
  {
   "cell_type": "code",
   "execution_count": 1,
   "id": "f0841bf3",
   "metadata": {
    "scrolled": true
   },
   "outputs": [
    {
     "name": "stdout",
     "output_type": "stream",
     "text": [
      "Requirement already satisfied: imutils in c:\\users\\hih\\anaconda3\\lib\\site-packages (0.5.4)\n",
      "Note: you may need to restart the kernel to use updated packages.\n"
     ]
    }
   ],
   "source": [
    "pip install --upgrade imutils"
   ]
  },
  {
   "cell_type": "code",
   "execution_count": 3,
   "id": "eb3447a5",
   "metadata": {},
   "outputs": [],
   "source": [
    "# import the necessary packages\n",
    "from imutils import paths\n",
    "import argparse\n",
    "import imutils\n",
    "\n",
    "import cv2\n",
    "import numpy as np\n",
    "import matplotlib.pyplot as plt\n",
    "#from dataPath import DATA_PATH\n",
    "%matplotlib inline"
   ]
  },
  {
   "cell_type": "code",
   "execution_count": 4,
   "id": "9026e02a",
   "metadata": {},
   "outputs": [],
   "source": [
    "import matplotlib\n",
    "matplotlib.rcParams['figure.figsize'] = (10.0, 10.0)\n",
    "matplotlib.rcParams['image.cmap'] = 'gray'"
   ]
  },
  {
   "cell_type": "code",
   "execution_count": 5,
   "id": "beb2a8c9",
   "metadata": {},
   "outputs": [],
   "source": [
    "import os"
   ]
  },
  {
   "cell_type": "code",
   "execution_count": null,
   "id": "2dc0cdee",
   "metadata": {},
   "outputs": [],
   "source": [
    "images = []\n",
    "\n",
    "dirName = \"scene\"\n",
    "\n",
    "imagefiles = [ \"images/{}/\".format(dirName) + f for f in os.listdir(\"images/\"+dirName) if f.endswith(\".jpg\")]\n",
    "imagefiles.sort()\n",
    "\n",
    "destination = \"{}_result.png\".format(dirName)\n",
    "plt.figure(figsize=[20,15])\n",
    "i=1\n",
    "for filename in imagefiles:\n",
    "    img = cv2.imread(filename)\n",
    "    images.append(img)\n",
    "\n"
   ]
  },
  {
   "cell_type": "code",
   "execution_count": null,
   "id": "6cfe5e2a",
   "metadata": {},
   "outputs": [],
   "source": [
    "print(images[0].shape)"
   ]
  },
  {
   "cell_type": "code",
   "execution_count": null,
   "id": "2d918b72",
   "metadata": {},
   "outputs": [],
   "source": [
    "# initialize OpenCV's image stitcher object and then perform the image\n",
    "# stitching\n",
    "print(\"[INFO] stitching images...\")\n",
    "stitcher = cv2.createStitcher() if imutils.is_cv3() else cv2.Stitcher_create()\n",
    "(status, stitched) = stitcher.stitch(images)"
   ]
  },
  {
   "cell_type": "code",
   "execution_count": null,
   "id": "78a95c33",
   "metadata": {},
   "outputs": [],
   "source": [
    "# if the status is '0', then OpenCV successfully performed image\n",
    "# stitching\n",
    "if status == 0:\n",
    "\t# write the output stitched image to disk\n",
    "\tcv2.imwrite('panoramaScene.jpg', stitched)\n",
    "\t# display the output stitched image to our screen\n",
    "\tcv2.imshow(\"Stitched\", stitched)\n",
    "\tcv2.waitKey(0)\n",
    "# otherwise the stitching failed, likely due to not enough keypoints)\n",
    "# being detected\n",
    "else:\n",
    "\tprint(\"[INFO] image stitching failed ({})\".format(status))"
   ]
  },
  {
   "cell_type": "code",
   "execution_count": null,
   "id": "29dc4a01",
   "metadata": {},
   "outputs": [],
   "source": []
  }
 ],
 "metadata": {
  "kernelspec": {
   "display_name": "Python 3 (ipykernel)",
   "language": "python",
   "name": "python3"
  },
  "language_info": {
   "codemirror_mode": {
    "name": "ipython",
    "version": 3
   },
   "file_extension": ".py",
   "mimetype": "text/x-python",
   "name": "python",
   "nbconvert_exporter": "python",
   "pygments_lexer": "ipython3",
   "version": "3.9.13"
  }
 },
 "nbformat": 4,
 "nbformat_minor": 5
}
