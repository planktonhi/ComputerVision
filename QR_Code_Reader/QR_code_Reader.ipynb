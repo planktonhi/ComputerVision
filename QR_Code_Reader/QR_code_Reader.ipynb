{
 "cells": [
  {
   "cell_type": "code",
   "execution_count": 11,
   "id": "6c121381",
   "metadata": {},
   "outputs": [],
   "source": [
    "%matplotlib inline\n",
    "\n",
    "# Import modules\n",
    "import cv2\n",
    "import matplotlib.pyplot as plt\n",
    "#from dataPath import DATA_PATH"
   ]
  },
  {
   "cell_type": "code",
   "execution_count": 12,
   "id": "b618e457",
   "metadata": {},
   "outputs": [],
   "source": [
    "import matplotlib\n",
    "matplotlib.rcParams['figure.figsize'] = (4.0, 4.0)"
   ]
  },
  {
   "cell_type": "code",
   "execution_count": 13,
   "id": "b8b87c53",
   "metadata": {},
   "outputs": [],
   "source": [
    "# Image Path\n",
    "#imgPath = \"../data/\"+\"images/QR_Example.png\"\n",
    "imgPath=\"QR_Example.png\"\n",
    "# Read image\n",
    "\n",
    "img=cv2.imread(imgPath, cv2.IMREAD_COLOR)"
   ]
  },
  {
   "cell_type": "code",
   "execution_count": 14,
   "id": "28e1010a",
   "metadata": {},
   "outputs": [
    {
     "name": "stdout",
     "output_type": "stream",
     "text": [
      "QR Code Detected\n"
     ]
    }
   ],
   "source": [
    "# Create a QRCodeDetector Object\n",
    "# Variable name should be qrDecoder\n",
    "\n",
    "qrDecoder=cv2.QRCodeDetector()\n",
    "\n",
    "# Detect QR Code in the Image\n",
    "# Output should be stored in\n",
    "# opencvData, bbox, rectifiedImage\n",
    "# in the same order\n",
    "\n",
    "opencvData, bbox, rectifiedImage =qrDecoder.detectAndDecode(img)\n",
    "\n",
    "# Check if a QR Code has been detected\n",
    "if opencvData != None:\n",
    "    print(\"QR Code Detected\")\n",
    "else:\n",
    "    print(\"QR Code NOT Detected\")"
   ]
  },
  {
   "cell_type": "code",
   "execution_count": 15,
   "id": "201f4a8d",
   "metadata": {},
   "outputs": [
    {
     "name": "stdout",
     "output_type": "stream",
     "text": [
      "42.0\n"
     ]
    }
   ],
   "source": [
    "print(bbox[0,0,0])"
   ]
  },
  {
   "cell_type": "code",
   "execution_count": 16,
   "id": "08504f5b",
   "metadata": {},
   "outputs": [
    {
     "data": {
      "text/plain": [
       "array([[[0, 0, 0],\n",
       "        [0, 0, 0],\n",
       "        [0, 0, 0],\n",
       "        ...,\n",
       "        [0, 0, 0],\n",
       "        [0, 0, 0],\n",
       "        [0, 0, 0]],\n",
       "\n",
       "       [[0, 0, 0],\n",
       "        [0, 0, 0],\n",
       "        [0, 0, 0],\n",
       "        ...,\n",
       "        [0, 0, 0],\n",
       "        [0, 0, 0],\n",
       "        [0, 0, 0]],\n",
       "\n",
       "       [[0, 0, 0],\n",
       "        [0, 0, 0],\n",
       "        [0, 0, 0],\n",
       "        ...,\n",
       "        [0, 0, 0],\n",
       "        [0, 0, 0],\n",
       "        [0, 0, 0]],\n",
       "\n",
       "       ...,\n",
       "\n",
       "       [[0, 0, 0],\n",
       "        [0, 0, 0],\n",
       "        [0, 0, 0],\n",
       "        ...,\n",
       "        [0, 0, 0],\n",
       "        [0, 0, 0],\n",
       "        [0, 0, 0]],\n",
       "\n",
       "       [[0, 0, 0],\n",
       "        [0, 0, 0],\n",
       "        [0, 0, 0],\n",
       "        ...,\n",
       "        [0, 0, 0],\n",
       "        [0, 0, 0],\n",
       "        [0, 0, 0]],\n",
       "\n",
       "       [[0, 0, 0],\n",
       "        [0, 0, 0],\n",
       "        [0, 0, 0],\n",
       "        ...,\n",
       "        [0, 0, 0],\n",
       "        [0, 0, 0],\n",
       "        [0, 0, 0]]], dtype=uint8)"
      ]
     },
     "execution_count": 16,
     "metadata": {},
     "output_type": "execute_result"
    }
   ],
   "source": [
    "n = len(bbox)\n",
    "\n",
    "# Draw the bounding box\n",
    "TLcornerx=int(bbox[0,0,0])\n",
    "TLcornery=int(bbox[0,0,1])\n",
    "\n",
    "BRcornerx=int(bbox[0,2,0])\n",
    "BRcornery=int(bbox[0,2,1])\n",
    "\n",
    "cv2.rectangle(img, (TLcornerx,TLcornery), (BRcornerx,BRcornery), (255,0,0), thickness=5, lineType=cv2.LINE_8)"
   ]
  },
  {
   "cell_type": "code",
   "execution_count": 17,
   "id": "6773db6b",
   "metadata": {},
   "outputs": [
    {
     "name": "stdout",
     "output_type": "stream",
     "text": [
      "QR Code Detected!\n",
      "Hello! Welcome to QR code reader.\n"
     ]
    }
   ],
   "source": [
    "# Since we have already detected and decoded the QR Code\n",
    "# using qrDecoder.detectAndDecode, we will directly\n",
    "# use the decoded text we obtained at that step (opencvdata)\n",
    "\n",
    "print(\"QR Code Detected!\")\n",
    "print(opencvData)\n"
   ]
  },
  {
   "cell_type": "code",
   "execution_count": 18,
   "id": "a7f77e61",
   "metadata": {},
   "outputs": [
    {
     "data": {
      "text/plain": [
       "True"
      ]
     },
     "execution_count": 18,
     "metadata": {},
     "output_type": "execute_result"
    }
   ],
   "source": [
    "# Write the result image\n",
    "resultImagePath = \"QRCode-Output.png\"\n",
    "cv2.imwrite(resultImagePath, img)"
   ]
  },
  {
   "cell_type": "code",
   "execution_count": 19,
   "id": "4ea5ec5a",
   "metadata": {},
   "outputs": [
    {
     "data": {
      "text/plain": [
       "<matplotlib.image.AxesImage at 0x26aec1ebdc0>"
      ]
     },
     "execution_count": 19,
     "metadata": {},
     "output_type": "execute_result"
    },
    {
     "data": {
      "image/png": "[encoded data removed]",
      "text/plain": [
       "<Figure size 400x400 with 1 Axes>"
      ]
     },
     "metadata": {},
     "output_type": "display_data"
    }
   ],
   "source": [
    "# OpenCV uses BGR whereas Matplotlib uses RGB format\n",
    "# So convert the BGR image to RGB image\n",
    "# And display the correct image\n",
    "\n",
    "plt.imshow(img[:,:,::-1])\n"
   ]
  },
  {
   "cell_type": "code",
   "execution_count": null,
   "id": "7e37329b",
   "metadata": {},
   "outputs": [],
   "source": []
  }
 ],
 "metadata": {
  "kernelspec": {
   "display_name": "Python 3 (ipykernel)",
   "language": "python",
   "name": "python3"
  },
  "language_info": {
   "codemirror_mode": {
    "name": "ipython",
    "version": 3
   },
   "file_extension": ".py",
   "mimetype": "text/x-python",
   "name": "python",
   "nbconvert_exporter": "python",
   "pygments_lexer": "ipython3",
   "version": "3.9.13"
  }
 },
 "nbformat": 4,
 "nbformat_minor": 5
}
